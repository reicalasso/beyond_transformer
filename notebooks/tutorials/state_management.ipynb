{
 "cells": [
  {
   "cell_type": "markdown",
   "id": "state_management_header",
   "metadata": {},
   "source": [
    "# Tutorial: Understanding State Management in NSM\n",
    "\n",
    "This tutorial explains the concept of **State Management** in Neural State Machines (NSM), a key component that differentiates NSM from traditional architectures.\n",
    "\n",
    "## 🎯 Learning Objectives\n",
    "\n",
    "By the end of this tutorial, you will understand:\n",
    "\n",
    "1. What state nodes are and their role in NSM\n",
    "2. How state nodes differ from traditional memory mechanisms\n",
    "3. How state nodes evolve over time\n",
    "4. A simple implementation of state management\n",
    "\n",
    "## 🧠 What are State Nodes?\n",
    "\n",
    "In traditional neural networks, information is processed in a feedforward manner with no persistent memory. In contrast, NSM introduces **state nodes** as persistent memory slots that:\n",
    "\n",
    "- Store long-term context\n",
    "- Evolve over time through interactions\n",
    "- Act as a knowledge base for the model\n",
    "\n",
    "Think of state nodes as a model's \"working memory\" that persists across processing steps, similar to how humans use working memory to solve complex problems.\n",
    "\n",
    "## 🔄 How State Nodes Evolve\n",
    "\n",
    "State nodes evolve through:\n",
    "\n",
    "1. **Interactions with Tokens**: Tokens route information to relevant states\n",
    "2. **State-to-State Propagation**: States communicate and update each other\n",
    "3. **Layer-wise Updates**: States are updated at each layer of the network\n",
    "\n",
    "This evolution allows the model to accumulate and refine context over time, enabling complex reasoning.\n",
    "\n",
    "Let's implement a simple example to see this in action."
   ]
  },
  {
   "cell_type": "code",
   "execution_count": null,
   "id": "imports",
   "metadata": {},
   "outputs": [],
   "source": [
    "# Import necessary libraries\n",
    "import torch\n",
    "import numpy as np\n",
    "import matplotlib.pyplot as plt\n",
    "\n",
    "# For better visualization\n",
    "import seaborn as sns\n",
    "sns.set(style=\"whitegrid\")\n",
    "\n",
    "print(\"Libraries imported successfully!\")"
   ]
  },
  {
   "cell_type": "code",
   "execution_count": null,
   "id": "simple_state_example",
   "metadata": {},
   "outputs": [],
   "source": [
    "# Define parameters\n",
    "num_states = 5\n",
    "state_dim = 10\n",
    "num_layers = 4\n",
    "\n",
    "# Initialize state nodes with random values\n",
    "states = torch.randn(num_states, state_dim)\n",
    "\n",
    "print(f\"Initialized {num_states} state nodes with dimension {state_dim}.\")\n",
    "print(\"\\nInitial states:\")\n",
    "print(states)"
   ]
  },
  {
   "cell_type": "code",
   "execution_count": null,
   "id": "state_evolution",
   "metadata": {},
   "outputs": [],
   "source": [
    "# Simulate state evolution over layers\n",
    "\n",
    "# Store history for visualization\n",
    "state_history = [states.clone()]\n",
    "\n",
    "# Simple evolution rule: Add small random updates\n",
    "for layer in range(num_layers):\n",
    "    # In a real NSM, this update would be more complex and data-driven\n",
    "    update = 0.1 * torch.randn(num_states, state_dim)\n",
    "    states = states + update\n",
    "    state_history.append(states.clone())\n",
    "    \n",
    "print(f\"State evolution over {num_layers} layers completed.\")\n",
    "print(\"\\nFinal states:\")\n",
    "print(states)"
   ]
  },
  {
   "cell_type": "code",
   "execution_count": null,
   "id": "state_evolution_viz",
   "metadata": {},
   "outputs": [],
   "source": [
    "# Visualize state evolution\n",
    "\n",
    "# Convert history to tensor for easier manipulation\n",
    "state_history = torch.stack(state_history)\n",
    "\n",
    "# Plot evolution of the first dimension of each state\n",
    "plt.figure(figsize=(10, 6))\n",
    "for i in range(num_states):\n",
    "    plt.plot(range(num_layers + 1), state_history[:, i, 0], marker='o', label=f'State {i}')\n",
    "\n",
    "plt.title('Evolution of State Values (First Dimension)')\n",
    "plt.xlabel('Layer')\n",
    "plt.ylabel('State Value (Dim 0)')\n",
    "plt.legend()\n",
    "plt.grid(True)\n",
    "plt.show()"
   ]
  },
  {
   "cell_type": "markdown",
   "id": "key_takeaways",
   "metadata": {},
   "source": [
    "## 🎓 Key Takeaways\n",
    "\n",
    "1. **State Nodes as Persistent Memory**: Unlike traditional networks, NSM maintains persistent memory through state nodes.\n",
    "2. **Dynamic Evolution**: State nodes evolve over time, accumulating context.\n",
    "3. **Scalability**: The number of state nodes is independent of sequence length, enabling efficient processing.\n",
    "\n",
    "## 🚀 Next Tutorial\n",
    "\n",
    "In the next tutorial, we'll explore **Token-to-State Routing**, which determines how tokens interact with state nodes.\n",
    "\n",
    "See `notebooks/tutorials/routing_mechanism.ipynb` for the next part."
   ]
  }
 ],
 "metadata": {
  "kernelspec": {
   "display_name": "Python 3",
   "language": "python",
   "name": "python3"
  },
  "language_info": {
   "name": "python",
   "version": "3.10"
  }
 },
 "nbformat": 4,
 "nbformat_minor": 5
}